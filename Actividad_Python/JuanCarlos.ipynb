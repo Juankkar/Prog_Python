{
 "cells": [
  {
   "cell_type": "markdown",
   "id": "66b55b91",
   "metadata": {},
   "source": [
    "# Actividad Python\n",
    "\n",
    "35% de la Nota Final\n",
    "\n",
    "- Fecha de Entrega:\n",
    "    - 1ra Convocatoria 13/01/2023\n",
    "    - 2da Convocatoria 19/04/2023\n",
    "\n",
    "\n",
    "Se provee:  \n",
    "- Un fichero **Actividad_Python.ipynb**\n",
    "    - Corresponde a un cuaderno jupyter notebook interactivo  con 13 ejercicios.\n",
    " \n",
    "Para realizar la actividad, generar una copia del fichero Actividad_Python.ipynb indicando nombre del grupo (Actividad_Python_Gx.ipynb). Indicar en su interior los nombres de los estudiantes que participaron en la entrega en grupo e incluir en las celdas vacías el código o los comandos que permiten obtener la información solicitada en los 13 ejercicios. \n",
    "\n",
    "Las entregas deberán realizarse en grupos de 5 personas. \n",
    "Registrarse en la Pestaña  Actividad Formativa --> Grupos, en uno de los grupos disponibles.  La entrega de la actividad deberá realizarse desde esta misma pestaña, seleccionando Actividades en grupo --> Python-Actividad. \n",
    "\n",
    "NOTA:  Para poder trabajar con el último ejercicio, deberá instalarse previamente la libreria **biopython**."
   ]
  },
  {
   "cell_type": "markdown",
   "id": "ca1c0940",
   "metadata": {},
   "source": [
    "## Librerías a usar vistas, por si son necesarias o útiles"
   ]
  },
  {
   "cell_type": "code",
   "execution_count": 141,
   "id": "07cf978d",
   "metadata": {},
   "outputs": [],
   "source": [
    "import pandas as pd\n",
    "import numpy as np\n",
    "import matplotlib.pyplot as plt"
   ]
  },
  {
   "cell_type": "markdown",
   "id": "d9dfa599",
   "metadata": {},
   "source": [
    "1. Escribe en mayúsculas la siguiente cadena de texto: (0.25 ptos.)"
   ]
  },
  {
   "cell_type": "code",
   "execution_count": 2,
   "id": "d94c09ba",
   "metadata": {},
   "outputs": [
    {
     "data": {
      "text/plain": [
       "'HOLA ALICIA PEREZ'"
      ]
     },
     "execution_count": 2,
     "metadata": {},
     "output_type": "execute_result"
    }
   ],
   "source": [
    "s = 'hola alicia perez'\n",
    "s_mayuscula = s.upper()\n",
    "s_mayuscula"
   ]
  },
  {
   "cell_type": "markdown",
   "id": "7c1ff6d1",
   "metadata": {},
   "source": [
    "2. Divide la anterior cadena de texto en una lista de palabras y selecciona el nombre y el apellido (0.25 ptos.)"
   ]
  },
  {
   "cell_type": "code",
   "execution_count": 3,
   "id": "1773d5e5",
   "metadata": {},
   "outputs": [
    {
     "data": {
      "text/plain": [
       "['HOLA', 'ALICIA', 'PEREZ']"
      ]
     },
     "execution_count": 3,
     "metadata": {},
     "output_type": "execute_result"
    }
   ],
   "source": [
    "s_list=s_mayuscula.split()\n",
    "s_list"
   ]
  },
  {
   "cell_type": "code",
   "execution_count": 4,
   "id": "a3d2ac1e",
   "metadata": {},
   "outputs": [
    {
     "data": {
      "text/plain": [
       "['ALICIA', 'PEREZ']"
      ]
     },
     "execution_count": 4,
     "metadata": {},
     "output_type": "execute_result"
    }
   ],
   "source": [
    "s_nombre_apellido = s_list[1:]\n",
    "s_nombre_apellido"
   ]
  },
  {
   "cell_type": "markdown",
   "id": "495c160c",
   "metadata": {},
   "source": [
    "3. Elimina los espacios y retornos de carro extra de la siguiente cadena de texto: (0.25 ptos.)"
   ]
  },
  {
   "cell_type": "code",
   "execution_count": 5,
   "id": "27c32133",
   "metadata": {},
   "outputs": [
    {
     "data": {
      "text/plain": [
       "'hola'"
      ]
     },
     "execution_count": 5,
     "metadata": {},
     "output_type": "execute_result"
    }
   ],
   "source": [
    "s = '   hola \\n'\n",
    "s.strip()"
   ]
  },
  {
   "cell_type": "markdown",
   "id": "514e46d1",
   "metadata": {},
   "source": [
    "4. Une la siguiente lista de palabras en una cadena de texto en la que las palabras estén separadas por comas: (0.25 ptos.)"
   ]
  },
  {
   "cell_type": "code",
   "execution_count": 6,
   "id": "3e2d21a1",
   "metadata": {},
   "outputs": [
    {
     "data": {
      "text/plain": [
       "'una,lista,con,palabras'"
      ]
     },
     "execution_count": 6,
     "metadata": {},
     "output_type": "execute_result"
    }
   ],
   "source": [
    "l = ['una', 'lista', 'con', 'palabras']\n",
    "srting=\",\".join(l)\n",
    "srting"
   ]
  },
  {
   "cell_type": "markdown",
   "id": "44b88bca",
   "metadata": {},
   "source": [
    "5. Reemplaza las comas por tabuladores en la siguiente cadena de texto: (1 pto.)"
   ]
  },
  {
   "cell_type": "code",
   "execution_count": 8,
   "id": "77c377c7",
   "metadata": {},
   "outputs": [
    {
     "name": "stdout",
     "output_type": "stream",
     "text": [
      "una\tdos\ttres\tcuatro\n"
     ]
    }
   ],
   "source": [
    "s = 'una,dos,tres,cuatro'\n",
    "s_tab = s.replace(',','\\t')\n",
    "print(s_tab)\n"
   ]
  },
  {
   "cell_type": "markdown",
   "id": "b6a9d250",
   "metadata": {},
   "source": [
    "6. ¿Está la palabra 'un' contenida en las siguientes cadenas de texto? (1 pto.)"
   ]
  },
  {
   "cell_type": "code",
   "execution_count": 9,
   "id": "e495acff",
   "metadata": {},
   "outputs": [],
   "source": [
    "s1 = 'tres, dos, uno'\n",
    "s2 = 'spam, spam, spam'"
   ]
  },
  {
   "cell_type": "code",
   "execution_count": 10,
   "id": "27eea3ea",
   "metadata": {},
   "outputs": [
    {
     "name": "stdout",
     "output_type": "stream",
     "text": [
      "Si está la palabra\n",
      "No está la palabra\n"
     ]
    }
   ],
   "source": [
    "def buscar_palabra(palabra, str):\n",
    "    if palabra in str:\n",
    "        print(\"Si está la palabra\")\n",
    "    else:\n",
    "        print(\"No está la palabra\")\n",
    "\n",
    "buscar_palabra('un', s1)\n",
    "buscar_palabra('un', s2)"
   ]
  },
  {
   "cell_type": "markdown",
   "id": "0ffbfc86",
   "metadata": {},
   "source": [
    "7. ¿Comienzan las siguientes cadenas de texto por “#”? Si es así elimina el caracter \"#\" de la cadena de texto correspondiente (1 pto.)"
   ]
  },
  {
   "cell_type": "code",
   "execution_count": 11,
   "id": "2dcefdfb",
   "metadata": {},
   "outputs": [],
   "source": [
    "s1 = '#explicacion de los campos' \n",
    "s2 = 'campo1, campo2, campo2'"
   ]
  },
  {
   "cell_type": "code",
   "execution_count": 12,
   "id": "3651be64",
   "metadata": {},
   "outputs": [
    {
     "name": "stdout",
     "output_type": "stream",
     "text": [
      "explicacion de los campos\n",
      "No empieza con #\n"
     ]
    }
   ],
   "source": [
    "def empieza_hastag(str):\n",
    "    if str.startswith('#'):\n",
    "        reemplazo=str.replace('#', '')\n",
    "        print(reemplazo)\n",
    "\n",
    "    else:\n",
    "        print('No empieza con #')\n",
    "\n",
    "empieza_hastag(s1)\n",
    "empieza_hastag(s2)"
   ]
  },
  {
   "cell_type": "markdown",
   "id": "e81ccc68",
   "metadata": {},
   "source": [
    "8. Dada la siguiente lista de cadena de texto filtra las palabras que comienzan por “#” y obtén una nueva lista con las palabras filtradas (las marcadas con \"#\") (1pto.)"
   ]
  },
  {
   "cell_type": "code",
   "execution_count": 13,
   "id": "98641a2e",
   "metadata": {},
   "outputs": [],
   "source": [
    "l = ['#explicacion, campos', '#campo1, campo2, campo2']\n"
   ]
  },
  {
   "cell_type": "code",
   "execution_count": 14,
   "id": "25ceed29",
   "metadata": {},
   "outputs": [
    {
     "data": {
      "text/plain": [
       "['explicacion, campos', 'campo1, campo2, campo2']"
      ]
     },
     "execution_count": 14,
     "metadata": {},
     "output_type": "execute_result"
    }
   ],
   "source": [
    "str1=l.pop(0)\n",
    "str2=l.pop(0)\n",
    "\n",
    "if str1.startswith('#'):\n",
    "    str1=str1.replace('#', '')\n",
    "if str2.startswith('#'):\n",
    "    str2=str2.replace('#', '')\n",
    "\n",
    "lista_nueva=[str1, str2]\n",
    "lista_nueva"
   ]
  },
  {
   "cell_type": "markdown",
   "id": "b2407be9",
   "metadata": {},
   "source": [
    "9. Selecciona los primeros tres elementos de la siguiente línea. Después los tres últimos (1pto.)"
   ]
  },
  {
   "cell_type": "code",
   "execution_count": 15,
   "id": "9a14273c",
   "metadata": {},
   "outputs": [],
   "source": [
    "l = ['uno', 'dos', 'tres', 'cuatro', 5, 6, 7]"
   ]
  },
  {
   "cell_type": "code",
   "execution_count": 9,
   "id": "930711fd",
   "metadata": {},
   "outputs": [
    {
     "data": {
      "text/plain": [
       "['uno', 'dos', 'tres']"
      ]
     },
     "execution_count": 9,
     "metadata": {},
     "output_type": "execute_result"
    }
   ],
   "source": [
    "l[0:3]"
   ]
  },
  {
   "cell_type": "code",
   "execution_count": 16,
   "id": "2a188344",
   "metadata": {},
   "outputs": [
    {
     "data": {
      "text/plain": [
       "[5, 6, 7]"
      ]
     },
     "execution_count": 16,
     "metadata": {},
     "output_type": "execute_result"
    }
   ],
   "source": [
    "# Como lo que más manejo son los Data Farmes, \n",
    "# sólo se me ha ocurrido lo siguiente:\n",
    "df_l=pd.DataFrame(l)\n",
    "df_l_tail=df_l.tail(n=3)\n",
    "list(df_l_tail[0])"
   ]
  },
  {
   "cell_type": "markdown",
   "id": "d0432c5f",
   "metadata": {},
   "source": [
    "10. Calcula el número de elementos de los que se compone la lista anterior."
   ]
  },
  {
   "cell_type": "code",
   "execution_count": 17,
   "id": "69eb6f86",
   "metadata": {},
   "outputs": [
    {
     "data": {
      "text/plain": [
       "7"
      ]
     },
     "execution_count": 17,
     "metadata": {},
     "output_type": "execute_result"
    }
   ],
   "source": [
    "len(l)"
   ]
  },
  {
   "cell_type": "markdown",
   "id": "6c72f685",
   "metadata": {},
   "source": [
    "11. Imprime las claves ordenadas del siguiente diccionario (Recuerda que los diccionarios no tienen por que estar ordenados en memoria). Después los valores ordenados (1pto.)"
   ]
  },
  {
   "cell_type": "code",
   "execution_count": 18,
   "id": "245523a4",
   "metadata": {},
   "outputs": [
    {
     "data": {
      "text/plain": [
       "{1: 'Noether', 2: 'Albert', 3: 'Isaac'}"
      ]
     },
     "execution_count": 18,
     "metadata": {},
     "output_type": "execute_result"
    }
   ],
   "source": [
    "d = {1 : 'Noether', 2: 'Albert', 3: 'Isaac'}\n",
    "d"
   ]
  },
  {
   "cell_type": "code",
   "execution_count": 19,
   "id": "66494c8e",
   "metadata": {},
   "outputs": [
    {
     "name": "stdout",
     "output_type": "stream",
     "text": [
      "1\n",
      "2\n",
      "3\n"
     ]
    }
   ],
   "source": [
    "for key in sorted(d.keys()):\n",
    "    print(key)"
   ]
  },
  {
   "cell_type": "markdown",
   "id": "bcb8fc4a",
   "metadata": {},
   "source": [
    "12. En el siguiente dataset, indicar:  \n",
    "    - Cuántas adeninas, citosinas, guaninas y timinas hay (0.5 ptos.) \n",
    "    - En qué posiciones se encuentran las adeninas? (0.5 ptos.)"
   ]
  },
  {
   "cell_type": "code",
   "execution_count": 20,
   "id": "b1bcdd37",
   "metadata": {},
   "outputs": [],
   "source": [
    "dataset = 'CGAAACGCTCTTCTTAAACGTCCTATACTATTGGCTCTAATTATGGTGGTGTAACCGCGCACGCCGCTTAAATTCAGCTAGCGTTCTCTGGGAAAGCTATTACCTTAAAGGCACCTGGTACATAGCGACGCGCAACGCCACTTGTATTAGACACTGAGTCGACCAGTTGTAGACACGACACACCACCCTATGAACACAGGCACTTGTGCACCGTCAACAGAGATCATACTCTCATACGATCAGGCACTTCACAGCTCCTGGGCAGGGGGCCCATCCGCACGTAATACAGGCTACTCAAAATTCACATGACATGCTCCTACGTCGTCTTGAGCGCTCGCCCTTGCTGGTGTTAAGTCTGCCACGTTAGCGGTCACCCCCCTTGTTCGGCCTATTCCTGCAGCTACTACATTGTAATAGAGACACCTACGCTTGGGAAGCATCTTGGAGGTGGCTCATGCGCCTGCATTGGGAAACACGTGCTACCGTGATCTTGAATTTGGTGAACACCCCCGCCTTATGTGGGCTAATCACTGATAGCTGACTTAATTGTCGCGCTCAAAGGAGTAGTGACGAGCAGGTGATAGGACTGTGAGGATCCTAGGAGACCTAAACCTACACTCTAGGGCAAGAGACTCCTCCATCTCTAGAATCAATCGTCCTTGCCCACATCTTCAAGGCGGCATGTCAAAATATGTATCCGGCAACAGTATATATAGAAAGCCCAGTGTTTATCATGCGGACGGTTGAAAGCAGGGTGCTGGTTAAACGCGTAATACTCAGAATATGATACTGGATCACGTGTAAAGAGTTTGGATAATTTGACACTTGGACTGGGCACAACTGTAGATTAATAGACCTCGTGAGCACACCCCTAACAAACTGGCCAAAGTCGACAAGATGCGCTTGGTTACTCAACTGGAACATCAGTAGAACGAAGTCTAGCTGAAT'"
   ]
  },
  {
   "cell_type": "code",
   "execution_count": 21,
   "id": "e8e4aaf4",
   "metadata": {},
   "outputs": [
    {
     "name": "stdout",
     "output_type": "stream",
     "text": [
      "A 256\n",
      "C 243\n",
      "G 219\n",
      "T 230\n"
     ]
    }
   ],
   "source": [
    "for base in 'ACGT':\n",
    "  print(base, dataset.count(base) + dataset.count(base.lower()))"
   ]
  },
  {
   "cell_type": "code",
   "execution_count": 237,
   "id": "37df31a3",
   "metadata": {},
   "outputs": [
    {
     "name": "stdout",
     "output_type": "stream",
     "text": [
      "948\n",
      "A posición:  2\n",
      "A posición:  3\n",
      "A posición:  4\n",
      "A posición:  15\n",
      "A posición:  16\n",
      "A posición:  17\n",
      "A posición:  24\n",
      "A posición:  26\n",
      "A posición:  29\n",
      "A posición:  38\n",
      "A posición:  39\n",
      "A posición:  42\n",
      "A posición:  52\n",
      "A posición:  53\n",
      "A posición:  60\n",
      "A posición:  69\n",
      "A posición:  70\n",
      "A posición:  71\n",
      "A posición:  75\n",
      "A posición:  79\n",
      "A posición:  92\n",
      "A posición:  93\n",
      "A posición:  94\n",
      "A posición:  98\n",
      "A posición:  101\n",
      "A posición:  106\n",
      "A posición:  107\n",
      "A posición:  108\n",
      "A posición:  112\n",
      "A posición:  119\n",
      "A posición:  121\n",
      "A posición:  123\n",
      "A posición:  127\n",
      "A posición:  133\n",
      "A posición:  134\n",
      "A posición:  139\n",
      "A posición:  145\n",
      "A posición:  148\n",
      "A posición:  150\n",
      "A posición:  152\n",
      "A posición:  156\n",
      "A posición:  161\n",
      "A posición:  164\n",
      "A posición:  170\n",
      "A posición:  172\n",
      "A posición:  174\n",
      "A posición:  177\n",
      "A posición:  179\n",
      "A posición:  181\n",
      "A posición:  184\n",
      "A posición:  189\n",
      "A posición:  192\n",
      "A posición:  193\n",
      "A posición:  195\n",
      "A posición:  197\n",
      "A posición:  201\n",
      "A posición:  209\n",
      "A posición:  215\n",
      "A posición:  216\n",
      "A posición:  218\n",
      "A posición:  220\n",
      "A posición:  222\n",
      "A posición:  225\n",
      "A posición:  227\n",
      "A posición:  233\n",
      "A posición:  235\n",
      "A posición:  238\n",
      "A posición:  241\n",
      "A posición:  245\n",
      "A posición:  250\n",
      "A posición:  252\n",
      "A posición:  263\n",
      "A posición:  272\n",
      "A posición:  278\n",
      "A posición:  282\n",
      "A posición:  283\n",
      "A posición:  285\n",
      "A posición:  287\n",
      "A posición:  292\n",
      "A posición:  296\n",
      "A posición:  297\n",
      "A posición:  298\n",
      "A posición:  299\n",
      "A posición:  303\n",
      "A posición:  305\n",
      "A posición:  308\n",
      "A posición:  310\n",
      "A posición:  318\n",
      "A posición:  329\n",
      "A posición:  351\n",
      "A posición:  352\n",
      "A posición:  360\n",
      "A posición:  365\n",
      "A posición:  372\n",
      "A posición:  390\n",
      "A posición:  398\n",
      "A posición:  402\n",
      "A posición:  405\n",
      "A posición:  407\n",
      "A posición:  412\n",
      "A posición:  413\n",
      "A posición:  415\n",
      "A posición:  417\n",
      "A posición:  419\n",
      "A posición:  421\n",
      "A posición:  425\n",
      "A posición:  434\n",
      "A posición:  435\n",
      "A posición:  438\n",
      "A posición:  445\n",
      "A posición:  454\n",
      "A posición:  464\n",
      "A posición:  470\n",
      "A posición:  471\n",
      "A posición:  472\n",
      "A posición:  474\n",
      "A posición:  481\n",
      "A posición:  487\n",
      "A posición:  493\n",
      "A posición:  494\n",
      "A posición:  502\n",
      "A posición:  503\n",
      "A posición:  505\n",
      "A posición:  516\n",
      "A posición:  525\n",
      "A posición:  526\n",
      "A posición:  529\n",
      "A posición:  533\n",
      "A posición:  535\n",
      "A posición:  540\n",
      "A posición:  544\n",
      "A posición:  545\n",
      "A posición:  557\n",
      "A posición:  558\n",
      "A posición:  559\n",
      "A posición:  562\n",
      "A posición:  565\n",
      "A posición:  569\n",
      "A posición:  572\n",
      "A posición:  575\n",
      "A posición:  580\n",
      "A posición:  582\n",
      "A posición:  585\n",
      "A posición:  591\n",
      "A posición:  594\n",
      "A posición:  599\n",
      "A posición:  602\n",
      "A posición:  604\n",
      "A posición:  608\n",
      "A posición:  609\n",
      "A posición:  610\n",
      "A posición:  614\n",
      "A posición:  616\n",
      "A posición:  621\n",
      "A posición:  626\n",
      "A posición:  627\n",
      "A posición:  629\n",
      "A posición:  631\n",
      "A posición:  639\n",
      "A posición:  645\n",
      "A posición:  647\n",
      "A posición:  648\n",
      "A posición:  651\n",
      "A posición:  652\n",
      "A posición:  665\n",
      "A posición:  667\n",
      "A posición:  673\n",
      "A posición:  674\n",
      "A posición:  681\n",
      "A posición:  686\n",
      "A posición:  687\n",
      "A posición:  688\n",
      "A posición:  689\n",
      "A posición:  691\n",
      "A posición:  695\n",
      "A posición:  702\n",
      "A posición:  703\n",
      "A posición:  705\n",
      "A posición:  708\n",
      "A posición:  710\n",
      "A posición:  712\n",
      "A posición:  714\n",
      "A posición:  716\n",
      "A posición:  717\n",
      "A posición:  718\n",
      "A posición:  723\n",
      "A posición:  730\n",
      "A posición:  733\n",
      "A posición:  739\n",
      "A posición:  746\n",
      "A posición:  747\n",
      "A posición:  748\n",
      "A posición:  751\n",
      "A posición:  763\n",
      "A posición:  764\n",
      "A posición:  765\n",
      "A posición:  771\n",
      "A posición:  772\n",
      "A posición:  774\n",
      "A posición:  778\n",
      "A posición:  780\n",
      "A posición:  781\n",
      "A posición:  783\n",
      "A posición:  786\n",
      "A posición:  788\n",
      "A posición:  793\n",
      "A posición:  796\n",
      "A posición:  802\n",
      "A posición:  803\n",
      "A posición:  804\n",
      "A posición:  806\n",
      "A posición:  813\n",
      "A posición:  815\n",
      "A posición:  816\n",
      "A posición:  821\n",
      "A posición:  823\n",
      "A posición:  829\n",
      "A posición:  836\n",
      "A posición:  838\n",
      "A posición:  839\n",
      "A posición:  844\n",
      "A posición:  846\n",
      "A posición:  849\n",
      "A posición:  850\n",
      "A posición:  852\n",
      "A posición:  854\n",
      "A posición:  862\n",
      "A posición:  865\n",
      "A posición:  867\n",
      "A posición:  873\n",
      "A posición:  874\n",
      "A posición:  876\n",
      "A posición:  877\n",
      "A posición:  878\n",
      "A posición:  885\n",
      "A posición:  886\n",
      "A posición:  887\n",
      "A posición:  892\n",
      "A posición:  894\n",
      "A posición:  895\n",
      "A posición:  897\n",
      "A posición:  909\n",
      "A posición:  913\n",
      "A posición:  914\n",
      "A posición:  919\n",
      "A posición:  920\n",
      "A posición:  922\n",
      "A posición:  925\n",
      "A posición:  928\n",
      "A posición:  930\n",
      "A posición:  931\n",
      "A posición:  934\n",
      "A posición:  935\n",
      "A posición:  940\n",
      "A posición:  945\n",
      "A posición:  946\n"
     ]
    }
   ],
   "source": [
    "# Empieza a contar desde la posición 0\n",
    "index = 0\n",
    "while index < len(dataset):\n",
    "    index = dataset.find('A', index)\n",
    "    if index == -1:\n",
    "        break\n",
    "    print('A posición: ', index)\n",
    "    index += 1 # Cuenta cada 1 posición"
   ]
  },
  {
   "cell_type": "markdown",
   "id": "79cfc256",
   "metadata": {},
   "source": [
    "13. Enumerar K-mers\n",
    "Tenemos un fichero de secuencias en formato fasta seqs_5.fasta, y queremos contar las apariciones de todos las trozos de secuencia de un tamaño determinado (k-mers). En este caso el tamaño de los trozos que vamos a contar es de 20 bases. El código mostrado a continuación permite visualizar el resultado del conteo. \n",
    "- Completar el código para calcular automáticamente cuántos k-mers distintos fueron encontrados (1pto).\n",
    "\n",
    "    Nota explicativa: Si tenemos una secuencia ATCGT, y pedimos un tamaño de secuencia de 3, los trozos de secuencia que tenemos son: ATC, TCG, CGT"
   ]
  },
  {
   "cell_type": "code",
   "execution_count": 2,
   "id": "d598f1dc",
   "metadata": {},
   "outputs": [],
   "source": [
    "from Bio import SeqIO"
   ]
  },
  {
   "cell_type": "code",
   "execution_count": 4,
   "id": "54cd5375",
   "metadata": {
    "scrolled": false
   },
   "outputs": [
    {
     "name": "stdout",
     "output_type": "stream",
     "text": [
      "ATGCCAGATTTGACCGATGA 1\n",
      "TGCCAGATTTGACCGATGAT 1\n",
      "GCCAGATTTGACCGATGATG 1\n",
      "CCAGATTTGACCGATGATGG 1\n",
      "CAGATTTGACCGATGATGGC 1\n",
      "AGATTTGACCGATGATGGCA 1\n",
      "GATTTGACCGATGATGGCAT 1\n",
      "ATTTGACCGATGATGGCATC 1\n",
      "TTTGACCGATGATGGCATCG 1\n",
      "TTGACCGATGATGGCATCGA 1\n",
      "TGACCGATGATGGCATCGAG 1\n",
      "GACCGATGATGGCATCGAGC 1\n",
      "ACCGATGATGGCATCGAGCG 1\n",
      "CCGATGATGGCATCGAGCGA 1\n",
      "CGATGATGGCATCGAGCGAG 1\n",
      "GATGATGGCATCGAGCGAGC 1\n",
      "ATGATGGCATCGAGCGAGCG 1\n",
      "TGATGGCATCGAGCGAGCGA 1\n",
      "GATGGCATCGAGCGAGCGAC 1\n",
      "ATGGCATCGAGCGAGCGACA 1\n",
      "TGGCATCGAGCGAGCGACAT 1\n",
      "GGCATCGAGCGAGCGACATC 1\n",
      "GCATCGAGCGAGCGACATCT 1\n",
      "CATCGAGCGAGCGACATCTA 1\n",
      "ATCGAGCGAGCGACATCTAG 1\n",
      "TCGAGCGAGCGACATCTAGG 1\n",
      "CGAGCGAGCGACATCTAGGC 1\n",
      "GAGCGAGCGACATCTAGGCT 1\n",
      "AGCGAGCGACATCTAGGCTA 1\n",
      "GCGAGCGACATCTAGGCTAG 1\n",
      "CGAGCGACATCTAGGCTAGG 1\n",
      "GAGCGACATCTAGGCTAGGG 1\n",
      "AGCGACATCTAGGCTAGGGG 1\n",
      "GCGACATCTAGGCTAGGGGG 1\n",
      "CGACATCTAGGCTAGGGGGG 1\n",
      "GACATCTAGGCTAGGGGGGC 1\n",
      "ACATCTAGGCTAGGGGGGCT 1\n",
      "CATCTAGGCTAGGGGGGCTT 1\n",
      "ATCTAGGCTAGGGGGGCTTT 1\n",
      "TCTAGGCTAGGGGGGCTTTT 1\n",
      "CTAGGCTAGGGGGGCTTTTA 1\n",
      "TAGGCTAGGGGGGCTTTTAG 1\n",
      "AGGCTAGGGGGGCTTTTAGG 1\n",
      "GGCTAGGGGGGCTTTTAGGC 1\n",
      "GCTAGGGGGGCTTTTAGGCT 1\n",
      "CTAGGGGGGCTTTTAGGCTT 1\n",
      "TAGGGGGGCTTTTAGGCTTA 1\n",
      "AGGGGGGCTTTTAGGCTTAC 1\n",
      "GGGGGGCTTTTAGGCTTACG 1\n",
      "GGGGGCTTTTAGGCTTACGG 1\n",
      "GGGGCTTTTAGGCTTACGGA 1\n",
      "GGGCTTTTAGGCTTACGGAC 1\n",
      "GGCTTTTAGGCTTACGGACT 1\n",
      "GCTTTTAGGCTTACGGACTA 1\n",
      "CTTTTAGGCTTACGGACTAT 1\n",
      "TTTTAGGCTTACGGACTATC 1\n",
      "TTTAGGCTTACGGACTATCG 1\n",
      "TTAGGCTTACGGACTATCGA 1\n",
      "TAGGCTTACGGACTATCGAA 1\n",
      "AGGCTTACGGACTATCGAAA 1\n",
      "GGCTTACGGACTATCGAAAA 1\n",
      "GCTTACGGACTATCGAAAAA 1\n",
      "CTTACGGACTATCGAAAAAA 1\n",
      "TTACGGACTATCGAAAAAAA 1\n",
      "TACGGACTATCGAAAAAAAA 1\n",
      "ACGGACTATCGAAAAAAAAA 1\n",
      "CGGACTATCGAAAAAAAAAA 1\n",
      "GGACTATCGAAAAAAAAAAA 1\n",
      "GACTATCGAAAAAAAAAAAA 1\n",
      "ACTATCGAAAAAAAAAAAAA 1\n",
      "CTATCGAAAAAAAAAAAAAA 1\n",
      "TATCGAAAAAAAAAAAAAAA 1\n",
      "ATCGAAAAAAAAAAAAAAAA 1\n",
      "TCGAAAAAAAAAAAAAAAAA 1\n",
      "CGAAAAAAAAAAAAAAAAAA 1\n",
      "GAAAAAAAAAAAAAAAAAAA 1\n",
      "AAAAAAAAAAAAAAAAAAAA 1\n",
      "AAAAAAAAAAAAAAAAAAAA 2\n",
      "AAAAAAAAAAAAAAAAAAAA 3\n",
      "AAAAAAAAAAAAAAAAAAAA 4\n",
      "ATGCCAGATTTGACCGATGA 2\n",
      "TGCCAGATTTGACCGATGAT 2\n",
      "GCCAGATTTGACCGATGATG 2\n",
      "CCAGATTTGACCGATGATGG 2\n",
      "CAGATTTGACCGATGATGGC 2\n",
      "AGATTTGACCGATGATGGCT 1\n",
      "GATTTGACCGATGATGGCTA 1\n",
      "ATTTGACCGATGATGGCTAG 1\n",
      "TTTGACCGATGATGGCTAGG 1\n",
      "TTGACCGATGATGGCTAGGC 1\n",
      "TGACCGATGATGGCTAGGCT 1\n",
      "GACCGATGATGGCTAGGCTA 1\n",
      "ACCGATGATGGCTAGGCTAA 1\n",
      "CCGATGATGGCTAGGCTAAA 1\n",
      "CGATGATGGCTAGGCTAAAA 1\n",
      "GATGATGGCTAGGCTAAAAA 1\n",
      "ATGATGGCTAGGCTAAAAAA 1\n",
      "TGATGGCTAGGCTAAAAAAA 1\n",
      "GATGGCTAGGCTAAAAAAAA 1\n",
      "ATGGCTAGGCTAAAAAAAAA 1\n",
      "TGGCTAGGCTAAAAAAAAAA 1\n",
      "GGCTAGGCTAAAAAAAAAAA 1\n",
      "GCTAGGCTAAAAAAAAAAAA 1\n",
      "CTAGGCTAAAAAAAAAAAAA 1\n",
      "TAGGCTAAAAAAAAAAAAAA 1\n",
      "AGGCTAAAAAAAAAAAAAAA 1\n",
      "GGCTAAAAAAAAAAAAAAAA 1\n",
      "GCTAAAAAAAAAAAAAAAAA 1\n",
      "CTAAAAAAAAAAAAAAAAAA 1\n",
      "TAAAAAAAAAAAAAAAAAAA 1\n",
      "AAAAAAAAAAAAAAAAAAAA 5\n",
      "AAAAAAAAAAAAAAAAAAAA 6\n",
      "AAAAAAAAAAAAAAAAAAAA 7\n",
      "ATGCCAGATTTGACCGATGA 3\n",
      "TGCCAGATTTGACCGATGAT 3\n",
      "GCCAGATTTGACCGATGATG 3\n",
      "CCAGATTTGACCGATGATGG 3\n",
      "CAGATTTGACCGATGATGGC 3\n",
      "AGATTTGACCGATGATGGCA 2\n",
      "GATTTGACCGATGATGGCAT 2\n",
      "ATTTGACCGATGATGGCATC 2\n",
      "TTTGACCGATGATGGCATCG 2\n",
      "TTGACCGATGATGGCATCGA 2\n",
      "TGACCGATGATGGCATCGAG 2\n",
      "GACCGATGATGGCATCGAGC 2\n",
      "ACCGATGATGGCATCGAGCG 2\n",
      "CCGATGATGGCATCGAGCGA 2\n",
      "CGATGATGGCATCGAGCGAG 2\n",
      "GATGATGGCATCGAGCGAGC 2\n",
      "ATGATGGCATCGAGCGAGCG 2\n",
      "TGATGGCATCGAGCGAGCGA 2\n",
      "GATGGCATCGAGCGAGCGAC 2\n",
      "ATGGCATCGAGCGAGCGACA 2\n",
      "TGGCATCGAGCGAGCGACAT 2\n",
      "GGCATCGAGCGAGCGACATC 2\n",
      "GCATCGAGCGAGCGACATCT 2\n",
      "CATCGAGCGAGCGACATCTA 2\n",
      "ATCGAGCGAGCGACATCTAG 2\n",
      "TCGAGCGAGCGACATCTAGG 2\n",
      "CGAGCGAGCGACATCTAGGC 2\n",
      "GAGCGAGCGACATCTAGGCT 2\n",
      "AGCGAGCGACATCTAGGCTA 2\n",
      "GCGAGCGACATCTAGGCTAG 2\n",
      "CGAGCGACATCTAGGCTAGG 2\n",
      "GAGCGACATCTAGGCTAGGG 2\n",
      "AGCGACATCTAGGCTAGGGG 2\n",
      "GCGACATCTAGGCTAGGGGG 2\n",
      "CGACATCTAGGCTAGGGGGG 2\n",
      "GACATCTAGGCTAGGGGGGC 2\n",
      "ACATCTAGGCTAGGGGGGCT 2\n",
      "CATCTAGGCTAGGGGGGCTT 2\n",
      "ATCTAGGCTAGGGGGGCTTT 2\n",
      "TCTAGGCTAGGGGGGCTTTT 2\n",
      "CTAGGCTAGGGGGGCTTTTA 2\n",
      "TAGGCTAGGGGGGCTTTTAG 2\n",
      "AGGCTAGGGGGGCTTTTAGG 2\n",
      "GGCTAGGGGGGCTTTTAGGC 2\n",
      "GCTAGGGGGGCTTTTAGGCT 2\n",
      "CTAGGGGGGCTTTTAGGCTT 2\n",
      "TAGGGGGGCTTTTAGGCTTA 2\n",
      "AGGGGGGCTTTTAGGCTTAC 2\n",
      "GGGGGGCTTTTAGGCTTACG 2\n",
      "GGGGGCTTTTAGGCTTACGG 2\n",
      "GGGGCTTTTAGGCTTACGGA 2\n",
      "GGGCTTTTAGGCTTACGGAC 2\n",
      "GGCTTTTAGGCTTACGGACT 2\n",
      "GCTTTTAGGCTTACGGACTA 2\n",
      "CTTTTAGGCTTACGGACTAT 2\n",
      "TTTTAGGCTTACGGACTATC 2\n",
      "TTTAGGCTTACGGACTATCG 2\n",
      "TTAGGCTTACGGACTATCGA 2\n",
      "TAGGCTTACGGACTATCGAA 2\n",
      "AGGCTTACGGACTATCGAAA 2\n",
      "GGCTTACGGACTATCGAAAA 2\n",
      "GCTTACGGACTATCGAAAAA 2\n",
      "CTTACGGACTATCGAAAAAA 2\n",
      "TTACGGACTATCGAAAAAAA 2\n",
      "TACGGACTATCGAAAAAAAA 2\n",
      "ACGGACTATCGAAAAAAAAA 2\n",
      "CGGACTATCGAAAAAAAAAA 2\n",
      "GGACTATCGAAAAAAAAAAA 2\n",
      "GACTATCGAAAAAAAAAAAA 2\n",
      "ACTATCGAAAAAAAAAAAAA 2\n",
      "CTATCGAAAAAAAAAAAAAA 2\n",
      "TATCGAAAAAAAAAAAAAAA 2\n",
      "ATCGAAAAAAAAAAAAAAAA 2\n",
      "TCGAAAAAAAAAAAAAAAAA 2\n",
      "CGAAAAAAAAAAAAAAAAAA 2\n",
      "GAAAAAAAAAAAAAAAAAAA 2\n",
      "AAAAAAAAAAAAAAAAAAAA 8\n",
      "AAAAAAAAAAAAAAAAAAAA 9\n",
      "AAAAAAAAAAAAAAAAAAAA 10\n",
      "AAAAAAAAAAAAAAAAAAAA 11\n",
      "ATGCCAGATTTGACCGATGA 4\n",
      "TGCCAGATTTGACCGATGAT 4\n",
      "GCCAGATTTGACCGATGATG 4\n",
      "CCAGATTTGACCGATGATGG 4\n",
      "CAGATTTGACCGATGATGGC 4\n",
      "AGATTTGACCGATGATGGCA 3\n",
      "GATTTGACCGATGATGGCAT 3\n",
      "ATTTGACCGATGATGGCATC 3\n",
      "TTTGACCGATGATGGCATCG 3\n",
      "TTGACCGATGATGGCATCGA 3\n",
      "TGACCGATGATGGCATCGAG 3\n",
      "GACCGATGATGGCATCGAGC 3\n",
      "ACCGATGATGGCATCGAGCG 3\n",
      "CCGATGATGGCATCGAGCGA 3\n",
      "CGATGATGGCATCGAGCGAG 3\n",
      "GATGATGGCATCGAGCGAGC 3\n",
      "ATGATGGCATCGAGCGAGCG 3\n",
      "TGATGGCATCGAGCGAGCGA 3\n",
      "GATGGCATCGAGCGAGCGAC 3\n",
      "ATGGCATCGAGCGAGCGACA 3\n",
      "TGGCATCGAGCGAGCGACAT 3\n",
      "GGCATCGAGCGAGCGACATC 3\n",
      "GCATCGAGCGAGCGACATCT 3\n",
      "CATCGAGCGAGCGACATCTA 3\n",
      "ATCGAGCGAGCGACATCTAA 1\n",
      "TCGAGCGAGCGACATCTAAA 1\n",
      "CGAGCGAGCGACATCTAAAA 1\n",
      "GAGCGAGCGACATCTAAAAA 1\n",
      "AGCGAGCGACATCTAAAAAA 1\n",
      "GCGAGCGACATCTAAAAAAA 1\n",
      "CGAGCGACATCTAAAAAAAA 1\n",
      "GAGCGACATCTAAAAAAAAA 1\n",
      "AGCGACATCTAAAAAAAAAA 1\n",
      "GCGACATCTAAAAAAAAAAA 1\n",
      "CGACATCTAAAAAAAAAAAA 1\n",
      "GACATCTAAAAAAAAAAAAA 1\n",
      "ACATCTAAAAAAAAAAAAAA 1\n",
      "CATCTAAAAAAAAAAAAAAA 1\n",
      "ATCTAAAAAAAAAAAAAAAA 1\n",
      "TCTAAAAAAAAAAAAAAAAA 1\n",
      "CTAAAAAAAAAAAAAAAAAA 2\n",
      "TAAAAAAAAAAAAAAAAAAA 2\n",
      "AAAAAAAAAAAAAAAAAAAA 12\n",
      "AAAAAAAAAAAAAAAAAAAA 13\n",
      "AAAAAAAAAAAAAAAAAAAA 14\n",
      "ATGCCAGATTTGACCGATGA 5\n",
      "TGCCAGATTTGACCGATGAT 5\n",
      "GCCAGATTTGACCGATGATG 5\n",
      "CCAGATTTGACCGATGATGG 5\n",
      "CAGATTTGACCGATGATGGC 5\n",
      "AGATTTGACCGATGATGGCA 4\n",
      "GATTTGACCGATGATGGCAT 4\n",
      "ATTTGACCGATGATGGCATC 4\n",
      "TTTGACCGATGATGGCATCG 4\n",
      "TTGACCGATGATGGCATCGA 4\n",
      "TGACCGATGATGGCATCGAG 4\n",
      "GACCGATGATGGCATCGAGC 4\n",
      "ACCGATGATGGCATCGAGCG 4\n",
      "CCGATGATGGCATCGAGCGA 4\n",
      "CGATGATGGCATCGAGCGAA 1\n",
      "GATGATGGCATCGAGCGAAA 1\n",
      "ATGATGGCATCGAGCGAAAA 1\n",
      "TGATGGCATCGAGCGAAAAA 1\n",
      "GATGGCATCGAGCGAAAAAA 1\n",
      "ATGGCATCGAGCGAAAAAAA 1\n",
      "TGGCATCGAGCGAAAAAAAA 1\n",
      "GGCATCGAGCGAAAAAAAAA 1\n",
      "GCATCGAGCGAAAAAAAAAA 1\n",
      "CATCGAGCGAAAAAAAAAAA 1\n",
      "ATCGAGCGAAAAAAAAAAAA 1\n",
      "TCGAGCGAAAAAAAAAAAAA 1\n",
      "CGAGCGAAAAAAAAAAAAAA 1\n",
      "GAGCGAAAAAAAAAAAAAAA 1\n",
      "AGCGAAAAAAAAAAAAAAAA 1\n",
      "GCGAAAAAAAAAAAAAAAAA 1\n",
      "CGAAAAAAAAAAAAAAAAAA 3\n",
      "GAAAAAAAAAAAAAAAAAAA 3\n",
      "AAAAAAAAAAAAAAAAAAAA 15\n",
      "AAAAAAAAAAAAAAAAAAAA 16\n",
      "AAAAAAAAAAAAAAAAAAAA 17\n",
      "AAAAAAAAAAAAAAAAAAAA 18\n",
      "ATGCCAGATTTGACCGATGA 6\n",
      "TGCCAGATTTGACCGATGAT 6\n",
      "GCCAGATTTGACCGATGATG 6\n",
      "CCAGATTTGACCGATGATGG 6\n",
      "CAGATTTGACCGATGATGGA 1\n",
      "AGATTTGACCGATGATGGAA 1\n",
      "GATTTGACCGATGATGGAAA 1\n",
      "ATTTGACCGATGATGGAAAA 1\n",
      "TTTGACCGATGATGGAAAAA 1\n",
      "TTGACCGATGATGGAAAAAA 1\n",
      "TGACCGATGATGGAAAAAAA 1\n",
      "GACCGATGATGGAAAAAAAA 1\n",
      "ACCGATGATGGAAAAAAAAA 1\n",
      "CCGATGATGGAAAAAAAAAA 1\n",
      "CGATGATGGAAAAAAAAAAA 1\n",
      "GATGATGGAAAAAAAAAAAA 1\n",
      "ATGATGGAAAAAAAAAAAAA 1\n",
      "TGATGGAAAAAAAAAAAAAA 1\n",
      "GATGGAAAAAAAAAAAAAAA 1\n",
      "ATGGAAAAAAAAAAAAAAAA 1\n",
      "TGGAAAAAAAAAAAAAAAAA 1\n",
      "GGAAAAAAAAAAAAAAAAAA 1\n",
      "GAAAAAAAAAAAAAAAAAAA 4\n",
      "AAAAAAAAAAAAAAAAAAAA 19\n",
      "AAAAAAAAAAAAAAAAAAAA 20\n",
      "AAAAAAAAAAAAAAAAAAAA 21\n",
      "Kmers diferentes totales:  152\n"
     ]
    }
   ],
   "source": [
    "def kmers_in_seq(seqrecord, kmer_size):\n",
    "    'devuelve todos los kmers de un seqrecord'\n",
    "    kmers = []\n",
    "    start = 0\n",
    "    secuencia = str(seqrecord.seq)\n",
    "    len_secuencia = len(secuencia)\n",
    "    while True:\n",
    "        end = start + 20\n",
    "        if end > len_secuencia:\n",
    "            break\n",
    "        kmer = secuencia[start:start + 20]\n",
    "        kmers.append(kmer)\n",
    "        start += 1\n",
    "    return kmers\n",
    "\n",
    "\n",
    "def funcion_principal(fichero_entrada, formato_entrada, kmer_size):\n",
    "    'La funcion principal'\n",
    "    conteo_kmers = {}\n",
    "    for seqrecord in SeqIO.parse(fichero_entrada, formato_entrada):\n",
    "        for kmer in kmers_in_seq(seqrecord, kmer_size):\n",
    "            if kmer not in conteo_kmers:\n",
    "                conteo_kmers[kmer] = 0\n",
    "            conteo_kmers[kmer] += 1\n",
    "            print(kmer, conteo_kmers[kmer])\n",
    "    print(\"Kmers diferentes totales: \", len(conteo_kmers))\n",
    "                    \n",
    "\n",
    "if __name__ == '__main__':\n",
    "    fichero_entrada = 'data/seqs_5.fasta'\n",
    "    formato_entrada = 'fasta'\n",
    "    kmer_size = 20\n",
    "    funcion_principal(fichero_entrada, formato_entrada, kmer_size)\n",
    "\n"
   ]
  },
  {
   "cell_type": "code",
   "execution_count": null,
   "id": "dfe4f550",
   "metadata": {},
   "outputs": [],
   "source": []
  }
 ],
 "metadata": {
  "kernelspec": {
   "display_name": "Python 3.10.6 ('prog_python')",
   "language": "python",
   "name": "python3"
  },
  "language_info": {
   "codemirror_mode": {
    "name": "ipython",
    "version": 3
   },
   "file_extension": ".py",
   "mimetype": "text/x-python",
   "name": "python",
   "nbconvert_exporter": "python",
   "pygments_lexer": "ipython3",
   "version": "3.10.6"
  },
  "vscode": {
   "interpreter": {
    "hash": "ee5569b0312b623342a3497c4512745ef458a03f3b93768665ad22ab179a3b30"
   }
  }
 },
 "nbformat": 4,
 "nbformat_minor": 5
}
